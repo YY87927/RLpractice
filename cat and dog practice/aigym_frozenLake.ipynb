{
 "cells": [
  {
   "cell_type": "code",
   "execution_count": 6,
   "metadata": {
    "scrolled": true
   },
   "outputs": [],
   "source": [
    "import gym\n",
    "import random\n",
    "import numpy as np\n",
    "import tensorflow as tf\n",
    "from gym.envs.registration import register\n",
    "import time\n",
    "from IPython.display import clear_output\n",
    "from collections import deque\n",
    "\n"
   ]
  },
  {
   "cell_type": "code",
   "execution_count": 7,
   "metadata": {},
   "outputs": [
    {
     "data": {
      "text/plain": [
       "gym.spaces.discrete.Discrete"
      ]
     },
     "execution_count": 7,
     "metadata": {},
     "output_type": "execute_result"
    }
   ],
   "source": [
    "try:\n",
    "    register(\n",
    "        id='FrozenLakeNoSlip-v0',\n",
    "        entry_point='gym.envs.toy_text:FrozenLakeEnv',\n",
    "        kwargs={'map_name' : '4x4', 'is_slippery': False},\n",
    "        max_episode_steps=100,\n",
    "        reward_threshold=0.78, # optimum = .8196\n",
    "    )\n",
    "except:\n",
    "    pass\n",
    "\n",
    "env_name = \"FrozenLake-v0\"\n",
    "env_name = \"CartPole-v1\"\n",
    "env = gym.make(env_name)\n",
    "type(env.action_space)"
   ]
  },
  {
   "cell_type": "code",
   "execution_count": 8,
   "metadata": {},
   "outputs": [],
   "source": [
    "class Agent():\n",
    "    def __init__(self, env):\n",
    "        self.is_discrete = (type(env.action_space) == gym.spaces.discrete.Discrete)\n",
    "        if self.is_discrete:\n",
    "            self.action_size = env.action_space.n\n",
    "        else:\n",
    "            self.action_low = env.action_space.low\n",
    "            self.action_high = env.action_space.high\n",
    "            self.action_shape = env.action_space.shape\n",
    "    def get_action(self, state):\n",
    "        if self.is_discrete:\n",
    "            action = random.choice(range(self.action_size))\n",
    "        else:\n",
    "            action = np.random.uniform(self.action_low,\n",
    "                                  self.action_high, self.action_shape)\n",
    "        return action\n",
    "        "
   ]
  },
  {
   "cell_type": "code",
   "execution_count": 9,
   "metadata": {},
   "outputs": [
    {
     "ename": "AttributeError",
     "evalue": "'Box' object has no attribute 'n'",
     "output_type": "error",
     "traceback": [
      "\u001b[0;31m---------------------------------------------------------------------------\u001b[0m",
      "\u001b[0;31mAttributeError\u001b[0m                            Traceback (most recent call last)",
      "\u001b[0;32m<ipython-input-9-d90ee4cef7ce>\u001b[0m in \u001b[0;36m<module>\u001b[0;34m()\u001b[0m\n\u001b[1;32m     71\u001b[0m         \u001b[0mself\u001b[0m\u001b[0;34m.\u001b[0m\u001b[0msess\u001b[0m\u001b[0;34m.\u001b[0m\u001b[0mclose\u001b[0m\u001b[0;34m(\u001b[0m\u001b[0;34m)\u001b[0m\u001b[0;34m;\u001b[0m\u001b[0;34m\u001b[0m\u001b[0;34m\u001b[0m\u001b[0m\n\u001b[1;32m     72\u001b[0m \u001b[0;34m\u001b[0m\u001b[0m\n\u001b[0;32m---> 73\u001b[0;31m \u001b[0magent\u001b[0m \u001b[0;34m=\u001b[0m \u001b[0mQNAgent\u001b[0m\u001b[0;34m(\u001b[0m\u001b[0menv\u001b[0m\u001b[0;34m)\u001b[0m\u001b[0;34m\u001b[0m\u001b[0;34m\u001b[0m\u001b[0m\n\u001b[0m",
      "\u001b[0;32m<ipython-input-9-d90ee4cef7ce>\u001b[0m in \u001b[0;36m__init__\u001b[0;34m(self, env, discount_rate, learning_rate)\u001b[0m\n\u001b[1;32m      2\u001b[0m     \u001b[0;32mdef\u001b[0m \u001b[0m__init__\u001b[0m\u001b[0;34m(\u001b[0m\u001b[0mself\u001b[0m\u001b[0;34m,\u001b[0m \u001b[0menv\u001b[0m\u001b[0;34m,\u001b[0m \u001b[0mdiscount_rate\u001b[0m \u001b[0;34m=\u001b[0m \u001b[0;36m0.97\u001b[0m\u001b[0;34m,\u001b[0m \u001b[0mlearning_rate\u001b[0m \u001b[0;34m=\u001b[0m \u001b[0;36m0.01\u001b[0m\u001b[0;34m)\u001b[0m\u001b[0;34m:\u001b[0m\u001b[0;34m\u001b[0m\u001b[0;34m\u001b[0m\u001b[0m\n\u001b[1;32m      3\u001b[0m         \u001b[0msuper\u001b[0m\u001b[0;34m(\u001b[0m\u001b[0;34m)\u001b[0m\u001b[0;34m.\u001b[0m\u001b[0m__init__\u001b[0m\u001b[0;34m(\u001b[0m\u001b[0menv\u001b[0m\u001b[0;34m)\u001b[0m\u001b[0;34m\u001b[0m\u001b[0;34m\u001b[0m\u001b[0m\n\u001b[0;32m----> 4\u001b[0;31m         \u001b[0mself\u001b[0m\u001b[0;34m.\u001b[0m\u001b[0mstate_size\u001b[0m \u001b[0;34m=\u001b[0m \u001b[0menv\u001b[0m\u001b[0;34m.\u001b[0m\u001b[0mobservation_space\u001b[0m\u001b[0;34m.\u001b[0m\u001b[0mn\u001b[0m\u001b[0;34m\u001b[0m\u001b[0;34m\u001b[0m\u001b[0m\n\u001b[0m\u001b[1;32m      5\u001b[0m         \u001b[0mprint\u001b[0m\u001b[0;34m(\u001b[0m\u001b[0mself\u001b[0m\u001b[0;34m.\u001b[0m\u001b[0mstate_size\u001b[0m\u001b[0;34m)\u001b[0m\u001b[0;34m\u001b[0m\u001b[0;34m\u001b[0m\u001b[0m\n\u001b[1;32m      6\u001b[0m \u001b[0;34m\u001b[0m\u001b[0m\n",
      "\u001b[0;31mAttributeError\u001b[0m: 'Box' object has no attribute 'n'"
     ]
    }
   ],
   "source": [
    "class QNAgent(Agent):\n",
    "    def __init__(self, env, discount_rate = 0.97, learning_rate = 0.01):\n",
    "        super().__init__(env)\n",
    "        self.state_size = env.observation_space.\n",
    "        print(self.state_size)\n",
    "        \n",
    "        \n",
    "    \n",
    "        self.eps = 1.0\n",
    "        self.discount_rate = discount_rate\n",
    "        self.learning_rate = learning_rate\n",
    "        \n",
    "        self.build_model()\n",
    "        \n",
    "        self.sess = tf.Session()\n",
    "        self.sess.run(tf.global_variables_initializer())\n",
    "        \n",
    "        self.replay_buffer = deque(maxlen = 1000)\n",
    "    \n",
    "    def build_model(self):\n",
    "        #self.q_table = 1e-4*np.random.random([self.state_size, self.action_size])\n",
    "        tf.reset_default_graph() \n",
    "        self.state_in = tf.placeholder(tf.int32, shape = [None])\n",
    "        self.action_in = tf.placeholder(tf.int32, shape = [None])\n",
    "        self.target_in = tf.placeholder(tf.float32, shape = [None ])\n",
    "        \n",
    "        #tf.one_hot(a, b) creates a b dimension tensor with value of index a=0\n",
    "        self.state = tf.one_hot(self.state_in, depth=self.state_size)\n",
    "        self.action = tf.one_hot(self.action_in, depth=self.action_size)\n",
    "        \n",
    "        #tf.layers.dense(input, units = output_dimension)\n",
    "        self.q_state = tf.layers.dense(self.state, units=self.action_size, name=\"q_table\")\n",
    "        self.q_action = tf.reduce_sum(tf.multiply(self.q_state, self.action), axis=1)\n",
    "        \n",
    "        self.loss = tf.reduce_sum(tf.square(self.target_in - self.q_action))\n",
    "        self.optimizer = tf.train.AdamOptimizer(self.learning_rate).minimize(self.loss)\n",
    "        \n",
    "        \n",
    "        \n",
    "    def get_action(self, state):\n",
    "        q_state = self.sess.run(self.q_state, feed_dict = {self.state_in: [state]})\n",
    "        #q_state = self.q_table[state]\n",
    "        print(q_state)\n",
    "        action_greedy = np.argmax(q_state)\n",
    "        action_random = super().get_action(state)\n",
    "        return action_random if np.random.random() < self.eps else action_greedy\n",
    "    \n",
    "    def train(self, experience, batchsize = 50):\n",
    "        self.replay_buffer.append(experience)\n",
    "        samples = random.choices(self.replay_buffer, k=batchsize)\n",
    "        state, action, next_state, reward, done = (list(col) for col in zip(experience, *samples))\n",
    "        \n",
    "        #state, action, next_state, reward, done = ([exp] for exp in experience)\n",
    "        \n",
    "        #q_next = np.zeros([self.action_size]) if done else self.q_table[next_state]\n",
    "        q_next = self.sess.run(self.q_state, feed_dict={self.state_in: next_state})\n",
    "        q_next[done] = np.zeros(self.action_size)\n",
    "        q_target = reward + self.discount_rate * np.max(q_next, axis = 1)\n",
    "        \n",
    "        '''\n",
    "        q_update = q_target - self.q_table[state, action]\n",
    "        self.q_table[state, action] += self.learning_rate * q_update\n",
    "        '''\n",
    "        feed = {self.state_in: state, self.action_in:action, self.target_in: q_target}\n",
    "        self.sess.run(self.optimizer, feed_dict = feed)\n",
    "        \n",
    "        if experience[4]:\n",
    "            self.eps *= 0.99\n",
    "            \n",
    "    def __del__(self):\n",
    "        self.sess.close();\n",
    "\n",
    "agent = QNAgent(env)"
   ]
  },
  {
   "cell_type": "code",
   "execution_count": 5,
   "metadata": {},
   "outputs": [
    {
     "name": "stdout",
     "output_type": "stream",
     "text": [
      "[[0.9119729 0.0089384 0.8786441 0.8901896]]\n",
      "s:  3 a:  1\n",
      "  (Down)\n",
      "SFFF\n",
      "FHF\u001b[41mH\u001b[0m\n",
      "FFFH\n",
      "HFFG\n",
      "[[ 0.2576847   0.3809003   0.32898873  0.14447957]\n",
      " [ 0.26435217 -0.4904318   0.35624877  0.1839204 ]\n",
      " [ 0.29063606  0.4466845   0.3253152   0.20925392]\n",
      " [ 0.31721005 -0.4803118   0.32536942  0.18831977]\n",
      " [ 0.29051068  0.41355208 -0.5451436   0.15301499]\n",
      " [-0.28817979  0.43754506 -0.32566905 -0.34973836]\n",
      " [-0.5845974   0.46917808 -0.5417781   0.21133482]\n",
      " [-0.12304896 -0.15485492  0.20762599 -0.47755504]\n",
      " [ 0.30772644 -0.49212992  0.37766144  0.17811662]\n",
      " [ 0.3076532   0.4725821   0.40767333 -0.69207853]\n",
      " [ 0.35213917  0.49347663 -0.5546767   0.22202204]\n",
      " [ 0.09937453 -0.3407585   0.0960623  -0.3675157 ]\n",
      " [-0.35346127 -0.47275323  0.34889203  0.26617038]\n",
      " [-0.5661116   0.46492544  0.42357838  0.22346868]\n",
      " [ 0.363528    0.49836913  0.44829994  0.25793284]\n",
      " [-0.12196353 -0.43644816  0.12036645  0.18192303]]\n",
      "episode:  99 total reward:  29.0 epsilon:  0.36603234127322926\n"
     ]
    }
   ],
   "source": [
    "\n",
    "\n",
    "print(\"observation space: \",  env.observation_space)\n",
    "print(\"action size: \", env.action_space)\n",
    "total_reward = 0\n",
    "for ep in range(100):\n",
    "    done = False\n",
    "    state = env.reset()\n",
    "    while not done:\n",
    "        action = agent.get_action(state)\n",
    "        next_state, reward, done, info = env.step(action)\n",
    "        agent.train([state, action, next_state, reward, done])\n",
    "        print('s: ', state, 'a: ', action)\n",
    "        state = next_state\n",
    "        total_reward += reward\n",
    "        env.render()\n",
    "        with tf.variable_scope(\"q_table\", reuse=True):\n",
    "            weights = agent.sess.run(tf.get_variable(\"kernel\"))\n",
    "            print(weights)\n",
    "        print('episode: ', ep, 'total reward: ', total_reward, 'epsilon: ', agent.eps)\n",
    "        time.sleep(0.1)\n",
    "        clear_output(wait=True)\n",
    "        \n",
    "env.close()"
   ]
  }
 ],
 "metadata": {
  "kernelspec": {
   "display_name": "Python aigym",
   "language": "python",
   "name": "aigym"
  },
  "language_info": {
   "codemirror_mode": {
    "name": "ipython",
    "version": 3
   },
   "file_extension": ".py",
   "mimetype": "text/x-python",
   "name": "python",
   "nbconvert_exporter": "python",
   "pygments_lexer": "ipython3",
   "version": "3.7.4"
  }
 },
 "nbformat": 4,
 "nbformat_minor": 2
}
