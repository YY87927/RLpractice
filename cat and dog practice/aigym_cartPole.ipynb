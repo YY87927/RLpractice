{
 "cells": [
  {
   "cell_type": "code",
   "execution_count": 20,
   "metadata": {
    "scrolled": true
   },
   "outputs": [
    {
     "name": "stdout",
     "output_type": "stream",
     "text": [
      "gym:  0.15.3\n",
      "tensorflow:  1.14.0\n"
     ]
    }
   ],
   "source": [
    "import gym\n",
    "import random\n",
    "import numpy as np\n",
    "import tensorflow as tf\n",
    "import matplotlib.pyplot as plt\n",
    "%matplotlib inline\n",
    "from collections import deque\n",
    "\n",
    "print(\"gym: \", gym.__version__)\n",
    "print(\"tensorflow: \", tf.__version__)"
   ]
  },
  {
   "cell_type": "code",
   "execution_count": 21,
   "metadata": {},
   "outputs": [
    {
     "name": "stdout",
     "output_type": "stream",
     "text": [
      "Observation space:  Box(4,)\n",
      "Action space:  Discrete(2)\n"
     ]
    }
   ],
   "source": [
    "env = gym.make(\"CartPole-v0\")\n",
    "print(\"Observation space: \", env.observation_space)\n",
    "print(\"Action space: \", env.action_space)"
   ]
  },
  {
   "cell_type": "code",
   "execution_count": 22,
   "metadata": {},
   "outputs": [],
   "source": [
    "class QNetwork():\n",
    "    def __init__(self, state_dim, action_size, tau = 0.01):\n",
    "        tf.reset_default_graph()\n",
    "        self.state_in = tf.placeholder(tf.float32, shape = [None, *state_dim])\n",
    "        self.action_in = tf.placeholder(tf.int32, shape = [None])\n",
    "        self.q_target = tf.placeholder(tf.float32, shape = [None])\n",
    "        action_one_hot = tf.one_hot(self.action_in, depth = action_size)\n",
    "        \n",
    "        self.q_state_local = self.build_model(action_size, \"local\")\n",
    "        self.q_state_target = self.build_model(action_size, \"target\")\n",
    "        \n",
    "        self.local_vars = tf.get_collection(tf.GraphKeys.TRAINABLE_VARIABLES, scope = \"local\")\n",
    "        self.target_vars = tf.get_collection(tf.GraphKeys.TRAINABLE_VARIABLES, scope = \"target\")\n",
    "        \n",
    "        self.q_state_action = tf.reduce_sum( tf.multiply(self.q_state_local, action_one_hot), axis = 1)\n",
    "         \n",
    "        self.loss = tf.reduce_mean(tf.square((self.q_target - self.q_state_action)))\n",
    "        self.optimizer = tf.train.AdamOptimizer(learning_rate = 0.001).minimize(self.loss)\n",
    "        self.updater = tf.group( [ tf.assign(t, t + tau*(l-t)) for t, l in zip(self.target_vars, self.local_vars) ] )\n",
    "        \n",
    "    def build_model(self, action_size, scope):\n",
    "        with tf.variable_scope(scope):\n",
    "            hidden_1 = tf.layers.dense(self.state_in, 100, activation = tf.nn.relu)\n",
    "            q_state = tf.layers.dense(hidden_1, action_size, activation = None)\n",
    "            return q_state\n",
    "        \n",
    "    def get_q_state(self, sess, state, use_target=False):\n",
    "        q_state_op = self.q_state_target if use_target else self.q_state_local\n",
    "        q_state = sess.run(q_state_op, feed_dict = {self.state_in: state})\n",
    "        return q_state\n",
    "    \n",
    "    def update_model(self, sess, state, action, q_target):\n",
    "        feed = {self.state_in: state, self.action_in: action, self.q_target: q_target}\n",
    "        sess.run([self.optimizer, self.updater], feed_dict = feed)\n",
    "        "
   ]
  },
  {
   "cell_type": "code",
   "execution_count": 23,
   "metadata": {},
   "outputs": [],
   "source": [
    "class replay_buffer():\n",
    "    def __init__(self, maxlen):\n",
    "        self.buffer = deque(maxlen = maxlen)\n",
    "        \n",
    "    def add(self, experience):\n",
    "        self.buffer.append(experience)\n",
    "        \n",
    "    def sample(self, batch_size):\n",
    "        sample_size = min(len(self.buffer), batch_size)\n",
    "        samples = random.choices(self.buffer, k = sample_size)\n",
    "        return map(list, zip(*samples))\n",
    "        "
   ]
  },
  {
   "cell_type": "code",
   "execution_count": 24,
   "metadata": {},
   "outputs": [],
   "source": [
    "class Agent():\n",
    "    def __init__(self, env):\n",
    "        self.state_dim = env.observation_space.shape\n",
    "        self.action_size = env.action_space.n\n",
    "        print(\"action size: \", self.action_size)\n",
    "        \n",
    "        #self.build_model()\n",
    "        self.q_network = QNetwork(self.state_dim, self.action_size)\n",
    "        self.sess = tf.Session()\n",
    "        self.sess.run(tf.global_variables_initializer())\n",
    "        self.gamma = 0.97\n",
    "        self.eps = 1.0\n",
    "        self.replay_buffer = replay_buffer(10000)\n",
    "        \n",
    "    '''\n",
    "    def build_model(self):\n",
    "        self.weights = 1e-4*np.random.rand(*self.state_dim, self.action_size)\n",
    "        self.best_reward = -np.Inf\n",
    "        self.best_weights = np.copy(self.weights) \n",
    "        self.noice_scale = 1e-2\n",
    "    '''    \n",
    "    def get_action(self, state):\n",
    "        q_state = self.q_network.get_q_state(self.sess, [state])\n",
    "        #p = np.dot(state, self.weights)\n",
    "        action_greedy = np.argmax(q_state)\n",
    "        action_random = np.random.randint(self.action_size)\n",
    "        action = action_random if random.random()<self.eps else action_greedy\n",
    "        return action\n",
    "    \n",
    "    def train(self, state, action, next_state, reward, done, use_DDQN=True):\n",
    "        self.replay_buffer.add((state, action, next_state, reward, done))\n",
    "        states, actions, next_states, rewards, dones = self.replay_buffer.sample(50)\n",
    "        \n",
    "        next_actions = np.argmax( self.q_network.get_q_state(self.sess, next_states, use_target=False), axis = 1)\n",
    "        q_next_states= self.q_network.get_q_state(self.sess, next_states, use_target=use_DDQN)\n",
    "        q_next_states[dones]= np.zeros([self.action_size])\n",
    "        q_next_states_next_actions = q_next_states[np.arange(next_actions.shape[0] ), next_actions]\n",
    "        \n",
    "        q_targets = rewards + self.gamma*q_next_states_next_actions\n",
    "        self.q_network.update_model(self.sess, states, actions, q_targets)\n",
    "        if done:\n",
    "            self.eps = max(0.1, self.eps*0.99)\n",
    "    \n",
    "    def __del__(self):\n",
    "        self.sess.close()\n",
    "    '''\n",
    "    def update_model(self, reward):\n",
    "        if reward > self.best_reward:\n",
    "            self.best_reward = reward\n",
    "            self.best_weights = np.copy(self.weights)\n",
    "            self.noice_scale = max(self.noice_scale/2, 1e-3)\n",
    "        else:\n",
    "            self.noice_scale *= min(self.noice_scale*2, 2)\n",
    "            \n",
    "        self.weights = self.best_weights + self.noice_scale * np.random.rand(*self.state_dim, self.action_size)\n",
    "    '''"
   ]
  },
  {
   "cell_type": "code",
   "execution_count": 27,
   "metadata": {},
   "outputs": [
    {
     "name": "stdout",
     "output_type": "stream",
     "text": [
      "Run 0\n",
      "action size:  2\n",
      "Run 1\n",
      "action size:  2\n",
      "Run 2\n",
      "action size:  2\n",
      "Run 3\n",
      "action size:  2\n",
      "Run 4\n",
      "action size:  2\n",
      "Run 5\n",
      "action size:  2\n",
      "Run 6\n",
      "action size:  2\n",
      "Run 7\n",
      "action size:  2\n",
      "Run 8\n",
      "action size:  2\n",
      "Run 9\n",
      "action size:  2\n"
     ]
    }
   ],
   "source": [
    "num_runs = 10\n",
    "run_rewards = [ ]\n",
    "\n",
    "for n in range(num_runs):\n",
    "    print(\"Run {}\".format(n))\n",
    "    ep_rewards = [ ]\n",
    "    \n",
    "    agent = None\n",
    "    agent = Agent(env)\n",
    "    for ep in range(200):\n",
    "        state = env.reset()\n",
    "        total_reward = 0\n",
    "        done = False\n",
    "        while not done:\n",
    "            action = agent.get_action(state)\n",
    "            next_state, reward, done, info = env.step(action)\n",
    "            agent.train(state, action, next_state, reward, done, use_DDQN = (n%2 == 0))\n",
    "            total_reward += reward\n",
    "            #env.render()\n",
    "            state = next_state\n",
    "        #agent.update_model(total_reward)\n",
    "        #print(\"episode: \", ep, \"total reward: \", total_reward)\n",
    "        ep_rewards.append(total_reward)\n",
    "    run_rewards.append(ep_rewards)\n"
   ]
  },
  {
   "cell_type": "code",
   "execution_count": 28,
   "metadata": {},
   "outputs": [
    {
     "data": {
      "text/plain": [
       "<matplotlib.legend.Legend at 0x131e2f6d0>"
      ]
     },
     "execution_count": 28,
     "metadata": {},
     "output_type": "execute_result"
    },
    {
     "data": {
      "image/png": "[encoded data removed]",
      "text/plain": [
       "<Figure size 432x288 with 1 Axes>"
      ]
     },
     "metadata": {},
     "output_type": "display_data"
    }
   ],
   "source": [
    "for n, ep_rewards in enumerate(run_rewards):\n",
    "    x = range(len(ep_rewards))\n",
    "    cumsum = np.cumsum(ep_rewards)\n",
    "    avgs = [cumsum[ep]/(ep+1) if ep<100 else cumsum[ep] - cumsum[ep-100]/100 for ep in x]\n",
    "    col = \"r\" if (n%2 == 0) else \"b\"\n",
    "    plt.plot(x, avgs, color = col, label = n)\n",
    "    \n",
    "plt.title(\"DDQN vs DQN\")\n",
    "plt.xlabel(\"episode\")\n",
    "plt.ylabel(\"last 100 episode average reward\")\n",
    "plt.legend()\n",
    "    "
   ]
  }
 ],
 "metadata": {
  "kernelspec": {
   "display_name": "Python aigym",
   "language": "python",
   "name": "aigym"
  },
  "language_info": {
   "codemirror_mode": {
    "name": "ipython",
    "version": 3
   },
   "file_extension": ".py",
   "mimetype": "text/x-python",
   "name": "python",
   "nbconvert_exporter": "python",
   "pygments_lexer": "ipython3",
   "version": "3.7.4"
  }
 },
 "nbformat": 4,
 "nbformat_minor": 2
}
